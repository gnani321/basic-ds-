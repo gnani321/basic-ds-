{
  "nbformat": 4,
  "nbformat_minor": 0,
  "metadata": {
    "colab": {
      "provenance": [],
      "include_colab_link": true
    },
    "kernelspec": {
      "name": "python3",
      "display_name": "Python 3"
    },
    "language_info": {
      "name": "python"
    }
  },
  "cells": [
    {
      "cell_type": "markdown",
      "metadata": {
        "id": "view-in-github",
        "colab_type": "text"
      },
      "source": [
        "<a href=\"https://colab.research.google.com/github/gnani321/basic-ds-/blob/main/basic_stats_2.ipynb\" target=\"_parent\"><img src=\"https://colab.research.google.com/assets/colab-badge.svg\" alt=\"Open In Colab\"/></a>"
      ]
    },
    {
      "cell_type": "code",
      "execution_count": null,
      "metadata": {
        "id": "sm00coyzMD3V"
      },
      "outputs": [],
      "source": [
        "import pandas as pd\n",
        "import numpy as np"
      ]
    },
    {
      "cell_type": "code",
      "source": [
        "data=np.array([1.13, 1.55, 1.43, 0.92, 1.25, 1.36, 1.32, 0.85, 1.07, 1.48, 1.20, 1.33, 1.18, 1.22, 1.29])"
      ],
      "metadata": {
        "id": "9l84Y-tQMLcj"
      },
      "execution_count": null,
      "outputs": []
    },
    {
      "cell_type": "code",
      "source": [
        "data"
      ],
      "metadata": {
        "colab": {
          "base_uri": "https://localhost:8080/"
        },
        "id": "vc2ZEOcXMWzu",
        "outputId": "7b3065c2-a01f-43c0-9f07-8e825b4be0c9"
      },
      "execution_count": null,
      "outputs": [
        {
          "output_type": "execute_result",
          "data": {
            "text/plain": [
              "array([1.13, 1.55, 1.43, 0.92, 1.25, 1.36, 1.32, 0.85, 1.07, 1.48, 1.2 ,\n",
              "       1.33, 1.18, 1.22, 1.29])"
            ]
          },
          "metadata": {},
          "execution_count": 4
        }
      ]
    },
    {
      "cell_type": "code",
      "source": [
        "sample_mean=data.mean()\n",
        "sample_mean"
      ],
      "metadata": {
        "colab": {
          "base_uri": "https://localhost:8080/"
        },
        "id": "-gLStstNMfkN",
        "outputId": "49c81a11-5412-4e0c-da22-ad1b9c9090b3"
      },
      "execution_count": null,
      "outputs": [
        {
          "output_type": "execute_result",
          "data": {
            "text/plain": [
              "1.2386666666666666"
            ]
          },
          "metadata": {},
          "execution_count": 11
        }
      ]
    },
    {
      "cell_type": "code",
      "source": [
        "sample_std=data.std()\n",
        "sample_std"
      ],
      "metadata": {
        "colab": {
          "base_uri": "https://localhost:8080/"
        },
        "id": "Zj8wxrVqMhWO",
        "outputId": "94cdec1f-a607-4180-8793-71704ac182e7"
      },
      "execution_count": null,
      "outputs": [
        {
          "output_type": "execute_result",
          "data": {
            "text/plain": [
              "0.18661427836285438"
            ]
          },
          "metadata": {},
          "execution_count": 12
        }
      ]
    },
    {
      "cell_type": "code",
      "source": [
        "sample_size=len(data)\n",
        "sample_size"
      ],
      "metadata": {
        "colab": {
          "base_uri": "https://localhost:8080/"
        },
        "id": "n5c9-0SONEvw",
        "outputId": "79afcab2-f6e4-4d63-aa28-08b720391119"
      },
      "execution_count": null,
      "outputs": [
        {
          "output_type": "execute_result",
          "data": {
            "text/plain": [
              "15"
            ]
          },
          "metadata": {},
          "execution_count": 37
        }
      ]
    },
    {
      "cell_type": "code",
      "source": [],
      "metadata": {
        "id": "iNKN2ybvTrwj"
      },
      "execution_count": null,
      "outputs": []
    },
    {
      "cell_type": "code",
      "source": [
        "# Given values\n",
        "sample_mean=1.238\n",
        "sample_std=0.186\n",
        "sample_size=15\n",
        "confidence_level=0.99"
      ],
      "metadata": {
        "id": "HAyulon3NGEp"
      },
      "execution_count": null,
      "outputs": []
    },
    {
      "cell_type": "markdown",
      "source": [
        "**confidence_intreval**=(x+(t.SE),x-(t.SE))"
      ],
      "metadata": {
        "id": "j3VV9kmrRPG-"
      }
    },
    {
      "cell_type": "code",
      "source": [
        "# calculate standard error\n",
        "Standard_error=((sample_std)/(np.sqrt)(sample_size))\n",
        "Standard_error\n"
      ],
      "metadata": {
        "colab": {
          "base_uri": "https://localhost:8080/"
        },
        "id": "NYpTi0UaQ0xS",
        "outputId": "af5c57f2-d530-4782-ba11-d7198af2909d"
      },
      "execution_count": null,
      "outputs": [
        {
          "output_type": "execute_result",
          "data": {
            "text/plain": [
              "0.04802499349297197"
            ]
          },
          "metadata": {},
          "execution_count": 39
        }
      ]
    },
    {
      "cell_type": "code",
      "source": [
        "# find degrees of freedom\n",
        "degrees_of_freedom=sample_size-1\n",
        "degrees_of_freedom"
      ],
      "metadata": {
        "colab": {
          "base_uri": "https://localhost:8080/"
        },
        "id": "krMbRvbpUW8L",
        "outputId": "186fce7c-2a95-46b3-ed41-fc75940f0259"
      },
      "execution_count": null,
      "outputs": [
        {
          "output_type": "execute_result",
          "data": {
            "text/plain": [
              "14"
            ]
          },
          "metadata": {},
          "execution_count": 40
        }
      ]
    },
    {
      "cell_type": "code",
      "source": [
        "\n",
        "# Calculate the t-critical value for a 99% confidence interval (two-tailed)\n",
        "import scipy.stats as stats\n",
        "t_critical = stats.t.ppf(1 - (1 - confidence_level) / 2, degrees_of_freedom)"
      ],
      "metadata": {
        "id": "MPc5q79EV2n5"
      },
      "execution_count": null,
      "outputs": []
    },
    {
      "cell_type": "code",
      "source": [
        "t_critical"
      ],
      "metadata": {
        "colab": {
          "base_uri": "https://localhost:8080/"
        },
        "id": "cyxOJCstWmp9",
        "outputId": "634ff991-d0bd-40ba-a7c3-4c48c94e3b63"
      },
      "execution_count": null,
      "outputs": [
        {
          "output_type": "execute_result",
          "data": {
            "text/plain": [
              "2.976842734370834"
            ]
          },
          "metadata": {},
          "execution_count": 51
        }
      ]
    },
    {
      "cell_type": "code",
      "source": [
        "# Calculate the margin of error\n",
        "margin_of_error=t_critical*Standard_error\n",
        "margin_of_error"
      ],
      "metadata": {
        "colab": {
          "base_uri": "https://localhost:8080/"
        },
        "id": "1zM1BmkWXBtR",
        "outputId": "8429ad46-5c47-4fa3-8123-6cebf4c55cf8"
      },
      "execution_count": null,
      "outputs": [
        {
          "output_type": "execute_result",
          "data": {
            "text/plain": [
              "0.14296285294776018"
            ]
          },
          "metadata": {},
          "execution_count": 52
        }
      ]
    },
    {
      "cell_type": "code",
      "source": [
        "#construct the confidence intreval\n",
        "confidence_intreval=(sample_mean-margin_of_error,sample_mean+margin_of_error)\n"
      ],
      "metadata": {
        "id": "gJetKZHwXLbt"
      },
      "execution_count": null,
      "outputs": []
    },
    {
      "cell_type": "code",
      "source": [
        "print(f\"The 99% confidence interval for the population mean is: {confidence_intreval}\")"
      ],
      "metadata": {
        "colab": {
          "base_uri": "https://localhost:8080/"
        },
        "id": "KKM7x7DYYfM4",
        "outputId": "71bd7f85-cd19-44b0-d7f7-83e8f0681dac"
      },
      "execution_count": null,
      "outputs": [
        {
          "output_type": "stream",
          "name": "stdout",
          "text": [
            "The 99% confidence interval for the population mean is: (1.0950371470522398, 1.3809628529477602)\n"
          ]
        }
      ]
    },
    {
      "cell_type": "code",
      "source": [
        "#given values\n",
        "sample_mean=1.238\n",
        "population_std=0.2\n",
        "sample_size=15\n",
        "confidence_level=0.99"
      ],
      "metadata": {
        "id": "FZhXNmOAZGbJ"
      },
      "execution_count": null,
      "outputs": []
    },
    {
      "cell_type": "code",
      "source": [
        "# Calculate the z-critical value for a 99% confidence interval (two-tailed)\n",
        "z_critical=stats.norm.ppf(1-(1-confidence_level)/2)\n",
        "z_critical"
      ],
      "metadata": {
        "colab": {
          "base_uri": "https://localhost:8080/"
        },
        "id": "bVJ0C1OWZWKL",
        "outputId": "6c8deddc-df10-436a-af53-b52f7e656a43"
      },
      "execution_count": null,
      "outputs": [
        {
          "output_type": "execute_result",
          "data": {
            "text/plain": [
              "2.5758293035489004"
            ]
          },
          "metadata": {},
          "execution_count": 58
        }
      ]
    },
    {
      "cell_type": "code",
      "source": [
        "\n",
        "# Calculate the standard error (using population standard deviation)\n",
        "standard_error=population_std/np.sqrt(sample_size)\n",
        "standard_error"
      ],
      "metadata": {
        "colab": {
          "base_uri": "https://localhost:8080/"
        },
        "id": "uQPC6qwwZlU1",
        "outputId": "825ea1e3-5103-4051-fee5-287c9455156d"
      },
      "execution_count": null,
      "outputs": [
        {
          "output_type": "execute_result",
          "data": {
            "text/plain": [
              "0.051639777949432225"
            ]
          },
          "metadata": {},
          "execution_count": 59
        }
      ]
    },
    {
      "cell_type": "code",
      "source": [
        "\n",
        "# Calculate the margin of error\n",
        "margin_of_error=z_critical*standard_error\n",
        "margin_of_error"
      ],
      "metadata": {
        "colab": {
          "base_uri": "https://localhost:8080/"
        },
        "id": "zymoYWSjZ0v7",
        "outputId": "a38792af-3419-4042-fca8-55d11dfc49e6"
      },
      "execution_count": null,
      "outputs": [
        {
          "output_type": "execute_result",
          "data": {
            "text/plain": [
              "0.13301525327090588"
            ]
          },
          "metadata": {},
          "execution_count": 60
        }
      ]
    },
    {
      "cell_type": "code",
      "source": [
        "# Construct the confidence interval\n",
        "confidence_intreval=(sample_mean-margin_of_error,sample_mean+margin_of_error)\n",
        "\n",
        "print(f\"The 99% confidence interval for the population mean is: {confidence_intreval}\")"
      ],
      "metadata": {
        "colab": {
          "base_uri": "https://localhost:8080/"
        },
        "id": "mzg8A6gSZ_8D",
        "outputId": "96b2abe9-68b6-46ff-a43a-7a6558cac214"
      },
      "execution_count": null,
      "outputs": [
        {
          "output_type": "stream",
          "name": "stdout",
          "text": [
            "The 99% confidence interval for the population mean is: (1.104984746729094, 1.371015253270906)\n"
          ]
        }
      ]
    }
  ]
}