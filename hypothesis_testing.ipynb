{
  "nbformat": 4,
  "nbformat_minor": 0,
  "metadata": {
    "colab": {
      "provenance": [],
      "include_colab_link": true
    },
    "kernelspec": {
      "name": "python3",
      "display_name": "Python 3"
    },
    "language_info": {
      "name": "python"
    }
  },
  "cells": [
    {
      "cell_type": "markdown",
      "metadata": {
        "id": "view-in-github",
        "colab_type": "text"
      },
      "source": [
        "<a href=\"https://colab.research.google.com/github/gnani321/basic-ds-/blob/main/hypothesis_testing.ipynb\" target=\"_parent\"><img src=\"https://colab.research.google.com/assets/colab-badge.svg\" alt=\"Open In Colab\"/></a>"
      ]
    },
    {
      "cell_type": "code",
      "execution_count": null,
      "metadata": {
        "id": "DFTyHb4vSaiG"
      },
      "outputs": [],
      "source": []
    },
    {
      "cell_type": "markdown",
      "source": [
        "State the Hypotheses statement:"
      ],
      "metadata": {
        "id": "OG6pWmGUSiK9"
      }
    },
    {
      "cell_type": "markdown",
      "source": [
        "Null hypotheses(H0):The current operating cost model (w=$1000+5x) is accurate\n",
        "\n",
        "\n",
        "Alternative hypotheses(H1):The current operating cost model(w=$1000+5x) is not accurate"
      ],
      "metadata": {
        "id": "R7deQ7adSleE"
      }
    },
    {
      "cell_type": "code",
      "source": [
        "import pandas as pd\n",
        "import numpy as np\n",
        "from scipy.stats import norm\n"
      ],
      "metadata": {
        "id": "67YTAa0NVoi_"
      },
      "execution_count": null,
      "outputs": []
    },
    {
      "cell_type": "code",
      "source": [
        "#given values\n",
        "sample_mean_x = 3050\n",
        "population_mean = 1000 + 5*(600)\n",
        "sigma = 5*25\n",
        "sample_standard_deviation=sigma\n",
        "#no.of sample observations>30 then tdistribution and zdistribution will behave the same .so sigma info the equation to s\n",
        "sample_size = 25\n"
      ],
      "metadata": {
        "id": "WAtfSG2zTgqg"
      },
      "execution_count": null,
      "outputs": []
    },
    {
      "cell_type": "code",
      "source": [
        "#calcualte test statstic\n",
        "tstatic=(sample_mean_x-population_mean)/(sample_standard_deviation/np.sqrt(sample_size))\n",
        "tstatic"
      ],
      "metadata": {
        "colab": {
          "base_uri": "https://localhost:8080/"
        },
        "id": "3iV2AFsnUagP",
        "outputId": "9f7ac5a3-da6a-4cef-84b9-7ae27ab05a7b"
      },
      "execution_count": null,
      "outputs": [
        {
          "output_type": "execute_result",
          "data": {
            "text/plain": [
              "-38.0"
            ]
          },
          "metadata": {},
          "execution_count": 9
        }
      ]
    },
    {
      "cell_type": "code",
      "source": [
        "# determine the critical value\n",
        "alpha=0.05\n",
        "critical_value=norm.ppf(1-alpha/2)\n",
        "print(f\"critical value: {critical_value}\")"
      ],
      "metadata": {
        "colab": {
          "base_uri": "https://localhost:8080/"
        },
        "id": "OFzwgoQtFSuc",
        "outputId": "e15aab2a-1da6-42e5-b66f-b4b68938d9d2"
      },
      "execution_count": null,
      "outputs": [
        {
          "output_type": "stream",
          "name": "stdout",
          "text": [
            "critical value: 1.959963984540054\n"
          ]
        }
      ]
    },
    {
      "cell_type": "code",
      "source": [
        "# Determine the calcluate value\n",
        "from scipy import stats\n",
        "alpha=0.5\n",
        "df=sample_size-1\n",
        "t_critical_value=stats.t.ppf(1-alpha,df)\n",
        "print(f\"critical value: {t_critical_value}\")"
      ],
      "metadata": {
        "colab": {
          "base_uri": "https://localhost:8080/"
        },
        "id": "quuotnxiWiwe",
        "outputId": "c89f9fd5-5f78-40de-affc-02b9a444deda"
      },
      "execution_count": null,
      "outputs": [
        {
          "output_type": "stream",
          "name": "stdout",
          "text": [
            "critical value: 6.707476314827955e-17\n"
          ]
        }
      ]
    },
    {
      "cell_type": "code",
      "source": [
        "# make a decision\n",
        "if abs(tstatic)>t_critical_value:\n",
        "    print(\"reject the null hypothesis\")\n",
        "    print(\"The current opertaing model is not accurate\")\n",
        "else:\n",
        "    print(\"fail to reject the null hypothesis\")\n",
        "    print(\"there is not enough evidence to conclude that the current operating model is inaccurate\")"
      ],
      "metadata": {
        "colab": {
          "base_uri": "https://localhost:8080/"
        },
        "id": "Msl8lQ3aYdaj",
        "outputId": "f48a3a2d-32d6-4576-88a6-0e11cb83fa1a"
      },
      "execution_count": null,
      "outputs": [
        {
          "output_type": "stream",
          "name": "stdout",
          "text": [
            "reject the null hypothesis\n",
            "The current opertaing model is not accurate\n"
          ]
        }
      ]
    }
  ]
}